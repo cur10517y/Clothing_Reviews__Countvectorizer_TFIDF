{
 "cells": [
  {
   "cell_type": "code",
   "execution_count": 1,
   "id": "95f0ee1a",
   "metadata": {},
   "outputs": [],
   "source": [
    "# Importing basic libraries\n",
    "import numpy as np\n",
    "import pandas as pd\n",
    "import warnings\n",
    "warnings.filterwarnings('ignore')"
   ]
  },
  {
   "cell_type": "code",
   "execution_count": 2,
   "id": "da881ec8",
   "metadata": {},
   "outputs": [],
   "source": [
    "# Importing required libraries\n",
    "from sklearn.feature_extraction.text import TfidfVectorizer, CountVectorizer\n",
    "from nltk.corpus import stopwords"
   ]
  },
  {
   "cell_type": "code",
   "execution_count": 3,
   "id": "28f19ee9",
   "metadata": {},
   "outputs": [],
   "source": [
    "# Importing dataset\n",
    "df = pd.read_csv('./Womens_Clothing_E_Commerce_Reviews.csv')"
   ]
  },
  {
   "cell_type": "code",
   "execution_count": 4,
   "id": "a3d94b4a",
   "metadata": {},
   "outputs": [
    {
     "data": {
      "text/plain": [
       "(23486, 11)"
      ]
     },
     "execution_count": 4,
     "metadata": {},
     "output_type": "execute_result"
    }
   ],
   "source": [
    "df.shape"
   ]
  },
  {
   "cell_type": "code",
   "execution_count": 5,
   "id": "28ceaf1d",
   "metadata": {},
   "outputs": [
    {
     "data": {
      "text/html": [
       "<div>\n",
       "<style scoped>\n",
       "    .dataframe tbody tr th:only-of-type {\n",
       "        vertical-align: middle;\n",
       "    }\n",
       "\n",
       "    .dataframe tbody tr th {\n",
       "        vertical-align: top;\n",
       "    }\n",
       "\n",
       "    .dataframe thead th {\n",
       "        text-align: right;\n",
       "    }\n",
       "</style>\n",
       "<table border=\"1\" class=\"dataframe\">\n",
       "  <thead>\n",
       "    <tr style=\"text-align: right;\">\n",
       "      <th></th>\n",
       "      <th>Unnamed: 0</th>\n",
       "      <th>Clothing ID</th>\n",
       "      <th>Age</th>\n",
       "      <th>Title</th>\n",
       "      <th>Review Text</th>\n",
       "      <th>Rating</th>\n",
       "      <th>Recommended IND</th>\n",
       "      <th>Positive Feedback Count</th>\n",
       "      <th>Division Name</th>\n",
       "      <th>Department Name</th>\n",
       "      <th>Class Name</th>\n",
       "    </tr>\n",
       "  </thead>\n",
       "  <tbody>\n",
       "    <tr>\n",
       "      <th>0</th>\n",
       "      <td>0</td>\n",
       "      <td>767</td>\n",
       "      <td>33</td>\n",
       "      <td>NaN</td>\n",
       "      <td>Absolutely wonderful - silky and sexy and comf...</td>\n",
       "      <td>4</td>\n",
       "      <td>1</td>\n",
       "      <td>0</td>\n",
       "      <td>Initmates</td>\n",
       "      <td>Intimate</td>\n",
       "      <td>Intimates</td>\n",
       "    </tr>\n",
       "    <tr>\n",
       "      <th>1</th>\n",
       "      <td>1</td>\n",
       "      <td>1080</td>\n",
       "      <td>34</td>\n",
       "      <td>NaN</td>\n",
       "      <td>Love this dress!  it's sooo pretty.  i happene...</td>\n",
       "      <td>5</td>\n",
       "      <td>1</td>\n",
       "      <td>4</td>\n",
       "      <td>General</td>\n",
       "      <td>Dresses</td>\n",
       "      <td>Dresses</td>\n",
       "    </tr>\n",
       "    <tr>\n",
       "      <th>2</th>\n",
       "      <td>2</td>\n",
       "      <td>1077</td>\n",
       "      <td>60</td>\n",
       "      <td>Some major design flaws</td>\n",
       "      <td>I had such high hopes for this dress and reall...</td>\n",
       "      <td>3</td>\n",
       "      <td>0</td>\n",
       "      <td>0</td>\n",
       "      <td>General</td>\n",
       "      <td>Dresses</td>\n",
       "      <td>Dresses</td>\n",
       "    </tr>\n",
       "    <tr>\n",
       "      <th>3</th>\n",
       "      <td>3</td>\n",
       "      <td>1049</td>\n",
       "      <td>50</td>\n",
       "      <td>My favorite buy!</td>\n",
       "      <td>I love, love, love this jumpsuit. it's fun, fl...</td>\n",
       "      <td>5</td>\n",
       "      <td>1</td>\n",
       "      <td>0</td>\n",
       "      <td>General Petite</td>\n",
       "      <td>Bottoms</td>\n",
       "      <td>Pants</td>\n",
       "    </tr>\n",
       "    <tr>\n",
       "      <th>4</th>\n",
       "      <td>4</td>\n",
       "      <td>847</td>\n",
       "      <td>47</td>\n",
       "      <td>Flattering shirt</td>\n",
       "      <td>This shirt is very flattering to all due to th...</td>\n",
       "      <td>5</td>\n",
       "      <td>1</td>\n",
       "      <td>6</td>\n",
       "      <td>General</td>\n",
       "      <td>Tops</td>\n",
       "      <td>Blouses</td>\n",
       "    </tr>\n",
       "  </tbody>\n",
       "</table>\n",
       "</div>"
      ],
      "text/plain": [
       "   Unnamed: 0  Clothing ID  Age                    Title  \\\n",
       "0           0          767   33                      NaN   \n",
       "1           1         1080   34                      NaN   \n",
       "2           2         1077   60  Some major design flaws   \n",
       "3           3         1049   50         My favorite buy!   \n",
       "4           4          847   47         Flattering shirt   \n",
       "\n",
       "                                         Review Text  Rating  Recommended IND  \\\n",
       "0  Absolutely wonderful - silky and sexy and comf...       4                1   \n",
       "1  Love this dress!  it's sooo pretty.  i happene...       5                1   \n",
       "2  I had such high hopes for this dress and reall...       3                0   \n",
       "3  I love, love, love this jumpsuit. it's fun, fl...       5                1   \n",
       "4  This shirt is very flattering to all due to th...       5                1   \n",
       "\n",
       "   Positive Feedback Count   Division Name Department Name Class Name  \n",
       "0                        0       Initmates        Intimate  Intimates  \n",
       "1                        4         General         Dresses    Dresses  \n",
       "2                        0         General         Dresses    Dresses  \n",
       "3                        0  General Petite         Bottoms      Pants  \n",
       "4                        6         General            Tops    Blouses  "
      ]
     },
     "execution_count": 5,
     "metadata": {},
     "output_type": "execute_result"
    }
   ],
   "source": [
    "df.head()"
   ]
  },
  {
   "cell_type": "code",
   "execution_count": 6,
   "id": "2a67b84c",
   "metadata": {},
   "outputs": [
    {
     "data": {
      "text/html": [
       "<div>\n",
       "<style scoped>\n",
       "    .dataframe tbody tr th:only-of-type {\n",
       "        vertical-align: middle;\n",
       "    }\n",
       "\n",
       "    .dataframe tbody tr th {\n",
       "        vertical-align: top;\n",
       "    }\n",
       "\n",
       "    .dataframe thead th {\n",
       "        text-align: right;\n",
       "    }\n",
       "</style>\n",
       "<table border=\"1\" class=\"dataframe\">\n",
       "  <thead>\n",
       "    <tr style=\"text-align: right;\">\n",
       "      <th></th>\n",
       "      <th>count</th>\n",
       "      <th>unique</th>\n",
       "      <th>top</th>\n",
       "      <th>freq</th>\n",
       "    </tr>\n",
       "  </thead>\n",
       "  <tbody>\n",
       "    <tr>\n",
       "      <th>Title</th>\n",
       "      <td>19676</td>\n",
       "      <td>13993</td>\n",
       "      <td>Love it!</td>\n",
       "      <td>136</td>\n",
       "    </tr>\n",
       "    <tr>\n",
       "      <th>Review Text</th>\n",
       "      <td>22641</td>\n",
       "      <td>22634</td>\n",
       "      <td>Perfect fit and i've gotten so many compliment...</td>\n",
       "      <td>3</td>\n",
       "    </tr>\n",
       "    <tr>\n",
       "      <th>Division Name</th>\n",
       "      <td>23472</td>\n",
       "      <td>3</td>\n",
       "      <td>General</td>\n",
       "      <td>13850</td>\n",
       "    </tr>\n",
       "    <tr>\n",
       "      <th>Department Name</th>\n",
       "      <td>23472</td>\n",
       "      <td>6</td>\n",
       "      <td>Tops</td>\n",
       "      <td>10468</td>\n",
       "    </tr>\n",
       "    <tr>\n",
       "      <th>Class Name</th>\n",
       "      <td>23472</td>\n",
       "      <td>20</td>\n",
       "      <td>Dresses</td>\n",
       "      <td>6319</td>\n",
       "    </tr>\n",
       "  </tbody>\n",
       "</table>\n",
       "</div>"
      ],
      "text/plain": [
       "                 count unique  \\\n",
       "Title            19676  13993   \n",
       "Review Text      22641  22634   \n",
       "Division Name    23472      3   \n",
       "Department Name  23472      6   \n",
       "Class Name       23472     20   \n",
       "\n",
       "                                                               top   freq  \n",
       "Title                                                     Love it!    136  \n",
       "Review Text      Perfect fit and i've gotten so many compliment...      3  \n",
       "Division Name                                              General  13850  \n",
       "Department Name                                               Tops  10468  \n",
       "Class Name                                                 Dresses   6319  "
      ]
     },
     "execution_count": 6,
     "metadata": {},
     "output_type": "execute_result"
    }
   ],
   "source": [
    "df.describe(include='O').T"
   ]
  },
  {
   "cell_type": "code",
   "execution_count": 7,
   "id": "ca02d04d",
   "metadata": {},
   "outputs": [
    {
     "name": "stdout",
     "output_type": "stream",
     "text": [
      "<class 'pandas.core.frame.DataFrame'>\n",
      "RangeIndex: 23486 entries, 0 to 23485\n",
      "Data columns (total 11 columns):\n",
      " #   Column                   Non-Null Count  Dtype \n",
      "---  ------                   --------------  ----- \n",
      " 0   Unnamed: 0               23486 non-null  int64 \n",
      " 1   Clothing ID              23486 non-null  int64 \n",
      " 2   Age                      23486 non-null  int64 \n",
      " 3   Title                    19676 non-null  object\n",
      " 4   Review Text              22641 non-null  object\n",
      " 5   Rating                   23486 non-null  int64 \n",
      " 6   Recommended IND          23486 non-null  int64 \n",
      " 7   Positive Feedback Count  23486 non-null  int64 \n",
      " 8   Division Name            23472 non-null  object\n",
      " 9   Department Name          23472 non-null  object\n",
      " 10  Class Name               23472 non-null  object\n",
      "dtypes: int64(6), object(5)\n",
      "memory usage: 2.0+ MB\n"
     ]
    }
   ],
   "source": [
    "df.info()"
   ]
  },
  {
   "cell_type": "code",
   "execution_count": 8,
   "id": "891b11ba",
   "metadata": {},
   "outputs": [
    {
     "data": {
      "text/plain": [
       "Unnamed: 0                    0\n",
       "Clothing ID                   0\n",
       "Age                           0\n",
       "Title                      3810\n",
       "Review Text                 845\n",
       "Rating                        0\n",
       "Recommended IND               0\n",
       "Positive Feedback Count       0\n",
       "Division Name                14\n",
       "Department Name              14\n",
       "Class Name                   14\n",
       "dtype: int64"
      ]
     },
     "execution_count": 8,
     "metadata": {},
     "output_type": "execute_result"
    }
   ],
   "source": [
    "df.isnull().sum()"
   ]
  },
  {
   "cell_type": "code",
   "execution_count": 9,
   "id": "9609aa50",
   "metadata": {},
   "outputs": [],
   "source": [
    "# Drop unnecessary column\n",
    "df.drop('Unnamed: 0',axis=1,inplace=True)"
   ]
  },
  {
   "cell_type": "code",
   "execution_count": 10,
   "id": "e98b3a6c",
   "metadata": {},
   "outputs": [],
   "source": [
    "#  Drop null rows as there are only few\n",
    "df.dropna(subset=['Review Text'],inplace=True)"
   ]
  },
  {
   "cell_type": "code",
   "execution_count": 11,
   "id": "324480a5",
   "metadata": {},
   "outputs": [
    {
     "data": {
      "text/plain": [
       "Clothing ID                   0\n",
       "Age                           0\n",
       "Title                      2966\n",
       "Review Text                   0\n",
       "Rating                        0\n",
       "Recommended IND               0\n",
       "Positive Feedback Count       0\n",
       "Division Name                13\n",
       "Department Name              13\n",
       "Class Name                   13\n",
       "dtype: int64"
      ]
     },
     "execution_count": 11,
     "metadata": {},
     "output_type": "execute_result"
    }
   ],
   "source": [
    "df.isnull().sum()"
   ]
  },
  {
   "cell_type": "code",
   "execution_count": 12,
   "id": "b0603d21",
   "metadata": {},
   "outputs": [],
   "source": [
    "# Converting to lower case and removing special characters\n",
    "df['Clean']=df['Review Text'].str.replace('[^a-z0-9]',' ').str.lower()"
   ]
  },
  {
   "cell_type": "code",
   "execution_count": 13,
   "id": "763b6f96",
   "metadata": {},
   "outputs": [],
   "source": [
    "stop_list=stopwords.words('english')"
   ]
  },
  {
   "cell_type": "code",
   "execution_count": 14,
   "id": "d27c749c",
   "metadata": {},
   "outputs": [],
   "source": [
    "# To remove the stop words\n",
    "def sx(x):\n",
    "    x = [word for word in x.split() if word not in stop_list]\n",
    "    return' '.join(x)"
   ]
  },
  {
   "cell_type": "code",
   "execution_count": 15,
   "id": "f1e1a6d5",
   "metadata": {},
   "outputs": [],
   "source": [
    "df['final'] = df['Clean'].apply(sx)"
   ]
  },
  {
   "cell_type": "code",
   "execution_count": 16,
   "id": "60983b8d",
   "metadata": {},
   "outputs": [],
   "source": [
    "# Initialize CountVectorizer for 20 desired parameters\n",
    "CV = CountVectorizer(max_features=20)"
   ]
  },
  {
   "cell_type": "code",
   "execution_count": 17,
   "id": "c592947f",
   "metadata": {},
   "outputs": [],
   "source": [
    "# Fit\n",
    "x = CV.fit_transform(df['final'])"
   ]
  },
  {
   "cell_type": "code",
   "execution_count": 18,
   "id": "321abf2b",
   "metadata": {},
   "outputs": [
    {
     "data": {
      "text/plain": [
       "array(['color', 'dress', 'fabric', 'fit', 'flattering', 'great', 'like',\n",
       "       'little', 'look', 'love', 'one', 'ordered', 'perfect', 'really',\n",
       "       'size', 'small', 'top', 'wear', 'well', 'would'], dtype=object)"
      ]
     },
     "execution_count": 18,
     "metadata": {},
     "output_type": "execute_result"
    }
   ],
   "source": [
    "# Get words from CountVectorizer\n",
    "cv_words = CV.get_feature_names_out()\n",
    "cv_words"
   ]
  },
  {
   "cell_type": "code",
   "execution_count": 19,
   "id": "4d9ba56a",
   "metadata": {},
   "outputs": [
    {
     "data": {
      "text/plain": [
       "dress         10533\n",
       "size           8763\n",
       "love           7868\n",
       "top            7408\n",
       "fit            7304\n",
       "like           7077\n",
       "wear           6438\n",
       "great          5791\n",
       "would          5104\n",
       "fabric         4787\n",
       "small          4729\n",
       "color          4593\n",
       "look           4037\n",
       "really         3818\n",
       "ordered        3775\n",
       "little         3773\n",
       "perfect        3714\n",
       "one            3617\n",
       "flattering     3505\n",
       "well           3367\n",
       "dtype: int64"
      ]
     },
     "execution_count": 19,
     "metadata": {},
     "output_type": "execute_result"
    }
   ],
   "source": [
    "top_20_cv_words = pd.DataFrame(x.toarray(), columns=cv_words).sum().sort_values(ascending=False).head(20)\n",
    "top_20_cv_words"
   ]
  },
  {
   "cell_type": "code",
   "execution_count": 20,
   "id": "4f30ef84",
   "metadata": {},
   "outputs": [],
   "source": [
    "# Initialize TfidfVectorizer for 20 parameters\n",
    "tfidf = TfidfVectorizer(max_features=20)"
   ]
  },
  {
   "cell_type": "code",
   "execution_count": 21,
   "id": "22835a22",
   "metadata": {},
   "outputs": [],
   "source": [
    "# Fit\n",
    "y = tfidf.fit_transform(df['final'])"
   ]
  },
  {
   "cell_type": "code",
   "execution_count": 22,
   "id": "ff227293",
   "metadata": {},
   "outputs": [
    {
     "data": {
      "text/plain": [
       "array(['color', 'dress', 'fabric', 'fit', 'flattering', 'great', 'like',\n",
       "       'little', 'look', 'love', 'one', 'ordered', 'perfect', 'really',\n",
       "       'size', 'small', 'top', 'wear', 'well', 'would'], dtype=object)"
      ]
     },
     "execution_count": 22,
     "metadata": {},
     "output_type": "execute_result"
    }
   ],
   "source": [
    "# Get words TfidfVectorizer\n",
    "tfidf_words = tfidf.get_feature_names_out()\n",
    "tfidf_words"
   ]
  },
  {
   "cell_type": "code",
   "execution_count": 23,
   "id": "fcda4a50",
   "metadata": {},
   "outputs": [
    {
     "data": {
      "text/plain": [
       "dress         3365.037040\n",
       "love          2823.100227\n",
       "size          2799.131367\n",
       "top           2659.395989\n",
       "fit           2507.496998\n",
       "like          2462.314842\n",
       "wear          2355.655822\n",
       "great         2346.597090\n",
       "would         1896.438128\n",
       "fabric        1889.400413\n",
       "color         1874.526396\n",
       "small         1778.197178\n",
       "look          1634.644510\n",
       "perfect       1626.570827\n",
       "little        1590.434234\n",
       "flattering    1583.784140\n",
       "really        1558.517740\n",
       "ordered       1514.066915\n",
       "one           1504.897101\n",
       "well          1468.905021\n",
       "dtype: float64"
      ]
     },
     "execution_count": 23,
     "metadata": {},
     "output_type": "execute_result"
    }
   ],
   "source": [
    "top_20_tfidf_words = pd.DataFrame(y.toarray(), columns=tfidf_words).sum().sort_values(ascending=False).head(20)\n",
    "top_20_tfidf_words"
   ]
  }
 ],
 "metadata": {
  "kernelspec": {
   "display_name": "Python 3 (ipykernel)",
   "language": "python",
   "name": "python3"
  },
  "language_info": {
   "codemirror_mode": {
    "name": "ipython",
    "version": 3
   },
   "file_extension": ".py",
   "mimetype": "text/x-python",
   "name": "python",
   "nbconvert_exporter": "python",
   "pygments_lexer": "ipython3",
   "version": "3.11.7"
  }
 },
 "nbformat": 4,
 "nbformat_minor": 5
}
